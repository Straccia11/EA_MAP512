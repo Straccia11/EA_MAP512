{
  "nbformat": 4,
  "nbformat_minor": 0,
  "metadata": {
    "colab": {
      "name": "generate_sbm.ipynb",
      "provenance": [],
      "collapsed_sections": []
    },
    "kernelspec": {
      "name": "python3",
      "display_name": "Python 3"
    }
  },
  "cells": [
    {
      "cell_type": "code",
      "metadata": {
        "id": "RuGjbKLfoYmF"
      },
      "source": [
        "import numpy as np\r\n",
        "import numpy.random as rd\r\n",
        "import pylab as pl"
      ],
      "execution_count": 1,
      "outputs": []
    },
    {
      "cell_type": "code",
      "metadata": {
        "id": "Gb0_8CjJowrD"
      },
      "source": [
        "def generate_sbm_2(n1, n2, block_matrix):\r\n",
        "    n = n1 + n2\r\n",
        "    adj_matrix = np.zeros((n, n))\r\n",
        "    for i in range(n):\r\n",
        "        for j in range(i, n):\r\n",
        "            if i < n1:\r\n",
        "                if j < n1:\r\n",
        "                    adj_matrix[i, j] = rd.binomial(1, block_matrix[0, 0])\r\n",
        "                    adj_matrix[j, i] = adj_matrix[i, j]\r\n",
        "                else:\r\n",
        "                    adj_matrix[i, j] = rd.binomial(1, block_matrix[0, 1])\r\n",
        "                    adj_matrix[j, i] = adj_matrix[i, j]\r\n",
        "            else:\r\n",
        "                if j < n1:\r\n",
        "                    adj_matrix[i, j] = rd.binomial(1, block_matrix[1, 0])\r\n",
        "                    adj_matrix[j, i] = adj_matrix[i, j]\r\n",
        "                else:\r\n",
        "                    adj_matrix[i, j] = rd.binomial(1, block_matrix[1, 1])\r\n",
        "                    adj_matrix[j, i] = adj_matrix[i, j]\r\n",
        "    return adj_matrix\r\n",
        "\r\n",
        "def is_symmetric(m, n):\r\n",
        "    for i in range(n):\r\n",
        "        for j in range(n):\r\n",
        "            if m[i, j] != m[j, i]:\r\n",
        "                return False\r\n",
        "    return True"
      ],
      "execution_count": 27,
      "outputs": []
    },
    {
      "cell_type": "code",
      "metadata": {
        "colab": {
          "base_uri": "https://localhost:8080/"
        },
        "id": "giqR_WSlp5Rz",
        "outputId": "43620478-6a44-4628-bf5b-6e40d21654d8"
      },
      "source": [
        "m = np.array([[0.8, 0.3], [0.3, 0.8]])\r\n",
        "sbm_matrix = generate_sbm_2(5, 5, m)\r\n",
        "print(sbm_matrix)\r\n",
        "print(is_symmetric(sbm_matrix, 10))"
      ],
      "execution_count": 30,
      "outputs": [
        {
          "output_type": "stream",
          "text": [
            "[[1. 1. 1. 0. 1. 0. 0. 1. 0. 0.]\n",
            " [1. 1. 1. 0. 0. 0. 0. 1. 0. 0.]\n",
            " [1. 1. 1. 0. 1. 1. 0. 0. 1. 0.]\n",
            " [0. 0. 0. 0. 1. 0. 0. 1. 1. 0.]\n",
            " [1. 0. 1. 1. 1. 0. 0. 0. 0. 0.]\n",
            " [0. 0. 1. 0. 0. 0. 1. 1. 1. 1.]\n",
            " [0. 0. 0. 0. 0. 1. 1. 1. 1. 1.]\n",
            " [1. 1. 0. 1. 0. 1. 1. 0. 0. 0.]\n",
            " [0. 0. 1. 1. 0. 1. 1. 0. 1. 1.]\n",
            " [0. 0. 0. 0. 0. 1. 1. 0. 1. 1.]]\n",
            "True\n"
          ],
          "name": "stdout"
        }
      ]
    }
  ]
}