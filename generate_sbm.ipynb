{
  "nbformat": 4,
  "nbformat_minor": 0,
  "metadata": {
    "colab": {
      "name": "generate_sbm.ipynb",
      "provenance": [],
      "collapsed_sections": []
    },
    "kernelspec": {
      "name": "python3",
      "display_name": "Python 3"
    }
  },
  "cells": [
    {
      "cell_type": "code",
      "metadata": {
        "id": "RuGjbKLfoYmF"
      },
      "source": [
        "import numpy as np\r\n",
        "import numpy.random as rd\r\n",
        "import pylab as pl"
      ],
      "execution_count": 1,
      "outputs": []
    },
    {
      "cell_type": "code",
      "metadata": {
        "id": "Gb0_8CjJowrD"
      },
      "source": [
        "def generate_sbm_2(n1, n2, block_matrix):\r\n",
        "    n = n1 + n2\r\n",
        "    adj_matrix = np.zeros((n, n))\r\n",
        "    for i in range(n):\r\n",
        "        for j in range(n):\r\n",
        "            if i < n1:\r\n",
        "                if j < n1:\r\n",
        "                    adj_matrix[i, j] = rd.binomial(1, block_matrix[0, 0])\r\n",
        "                else:\r\n",
        "                    adj_matrix[i, j] = rd.binomial(1, block_matrix[0, 1])\r\n",
        "            else:\r\n",
        "                if j < n1:\r\n",
        "                    adj_matrix[i, j] = rd.binomial(1, block_matrix[1, 0])\r\n",
        "                else:\r\n",
        "                    adj_matrix[i, j] = rd.binomial(1, block_matrix[1, 1])\r\n",
        "    return adj_matrix"
      ],
      "execution_count": 19,
      "outputs": []
    },
    {
      "cell_type": "code",
      "metadata": {
        "colab": {
          "base_uri": "https://localhost:8080/"
        },
        "id": "giqR_WSlp5Rz",
        "outputId": "27a77167-b2e6-46b8-9e86-83c9895ed8b6"
      },
      "source": [
        "m = np.array([[0.8, 0.3], [0.3, 0.8]])\r\n",
        "print(generate_sbm_2(5, 5, m))"
      ],
      "execution_count": 23,
      "outputs": [
        {
          "output_type": "stream",
          "text": [
            "[[1. 1. 1. 1. 1. 0. 0. 0. 1. 0.]\n",
            " [1. 1. 1. 1. 0. 1. 0. 0. 1. 1.]\n",
            " [1. 1. 1. 0. 1. 0. 0. 0. 0. 0.]\n",
            " [0. 1. 1. 1. 0. 1. 0. 0. 1. 0.]\n",
            " [1. 1. 1. 1. 1. 0. 0. 0. 1. 0.]\n",
            " [0. 0. 0. 1. 0. 1. 1. 1. 1. 1.]\n",
            " [0. 0. 0. 1. 0. 1. 1. 1. 1. 1.]\n",
            " [1. 1. 0. 0. 1. 0. 1. 1. 1. 1.]\n",
            " [0. 0. 0. 1. 0. 1. 1. 1. 1. 1.]\n",
            " [0. 0. 1. 1. 1. 1. 1. 1. 1. 1.]]\n"
          ],
          "name": "stdout"
        }
      ]
    }
  ]
}